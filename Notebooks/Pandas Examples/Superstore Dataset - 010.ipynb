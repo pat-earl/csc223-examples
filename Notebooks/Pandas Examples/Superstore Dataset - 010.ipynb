{
 "cells": [
  {
   "cell_type": "markdown",
   "id": "8b092df3",
   "metadata": {},
   "source": [
    "# Global SuperStore Data Investagtion\n",
    "\n",
    "**Author:** Patrick Earl\n",
    "\n",
    "Final Project for CSC223 \n",
    "\n",
    "The global superstore dataset is a fictional retail store containing info about products ordered, orders returned, and the sales people. \n",
    "\n",
    "Source of the dataset: https://www.kaggle.com/datasets/shekpaul/global-superstore"
   ]
  },
  {
   "cell_type": "markdown",
   "id": "a0537ff0",
   "metadata": {},
   "source": [
    "## Order Table\n",
    "\n",
    "Order table contains information about the various orders. These columns specificly hold useful information: \n",
    "\n",
    "* **Category:** The category for the product ordered. There are three values: Technology, Furt, Office Supplies\n",
    "* **Segment:** What type of account is the customer?\n",
    "* **Order-ID:** Unique ID for the order from the customer. Can be used to link with the returns table"
   ]
  },
  {
   "cell_type": "code",
   "execution_count": 1,
   "id": "5b6be7ad",
   "metadata": {},
   "outputs": [],
   "source": [
    "%matplotlib inline\n",
    "\n",
    "import matplotlib.pyplot as plt\n",
    "import numpy as np\n",
    "import pandas as pd"
   ]
  },
  {
   "cell_type": "code",
   "execution_count": 3,
   "id": "927484ce",
   "metadata": {},
   "outputs": [
    {
     "data": {
      "text/html": [
       "<div>\n",
       "<style scoped>\n",
       "    .dataframe tbody tr th:only-of-type {\n",
       "        vertical-align: middle;\n",
       "    }\n",
       "\n",
       "    .dataframe tbody tr th {\n",
       "        vertical-align: top;\n",
       "    }\n",
       "\n",
       "    .dataframe thead th {\n",
       "        text-align: right;\n",
       "    }\n",
       "</style>\n",
       "<table border=\"1\" class=\"dataframe\">\n",
       "  <thead>\n",
       "    <tr style=\"text-align: right;\">\n",
       "      <th></th>\n",
       "      <th>Order ID</th>\n",
       "      <th>Order Date</th>\n",
       "      <th>Ship Date</th>\n",
       "      <th>Ship Mode</th>\n",
       "      <th>Customer ID</th>\n",
       "      <th>Customer Name</th>\n",
       "      <th>Segment</th>\n",
       "      <th>City</th>\n",
       "      <th>State</th>\n",
       "      <th>Country</th>\n",
       "      <th>...</th>\n",
       "      <th>Product ID</th>\n",
       "      <th>Category</th>\n",
       "      <th>Sub-Category</th>\n",
       "      <th>Product Name</th>\n",
       "      <th>Sales</th>\n",
       "      <th>Quantity</th>\n",
       "      <th>Discount</th>\n",
       "      <th>Profit</th>\n",
       "      <th>Shipping Cost</th>\n",
       "      <th>Order Priority</th>\n",
       "    </tr>\n",
       "    <tr>\n",
       "      <th>Row ID</th>\n",
       "      <th></th>\n",
       "      <th></th>\n",
       "      <th></th>\n",
       "      <th></th>\n",
       "      <th></th>\n",
       "      <th></th>\n",
       "      <th></th>\n",
       "      <th></th>\n",
       "      <th></th>\n",
       "      <th></th>\n",
       "      <th></th>\n",
       "      <th></th>\n",
       "      <th></th>\n",
       "      <th></th>\n",
       "      <th></th>\n",
       "      <th></th>\n",
       "      <th></th>\n",
       "      <th></th>\n",
       "      <th></th>\n",
       "      <th></th>\n",
       "      <th></th>\n",
       "    </tr>\n",
       "  </thead>\n",
       "  <tbody>\n",
       "    <tr>\n",
       "      <th>32298</th>\n",
       "      <td>CA-2012-124891</td>\n",
       "      <td>2012-07-31</td>\n",
       "      <td>2012-07-31</td>\n",
       "      <td>Same Day</td>\n",
       "      <td>RH-19495</td>\n",
       "      <td>Rick Hansen</td>\n",
       "      <td>Consumer</td>\n",
       "      <td>New York City</td>\n",
       "      <td>New York</td>\n",
       "      <td>United States</td>\n",
       "      <td>...</td>\n",
       "      <td>TEC-AC-10003033</td>\n",
       "      <td>Technology</td>\n",
       "      <td>Accessories</td>\n",
       "      <td>Plantronics CS510 - Over-the-Head monaural Wir...</td>\n",
       "      <td>2309.650</td>\n",
       "      <td>7</td>\n",
       "      <td>0.0</td>\n",
       "      <td>762.1845</td>\n",
       "      <td>933.57</td>\n",
       "      <td>Critical</td>\n",
       "    </tr>\n",
       "    <tr>\n",
       "      <th>26341</th>\n",
       "      <td>IN-2013-77878</td>\n",
       "      <td>2013-02-05</td>\n",
       "      <td>2013-02-07</td>\n",
       "      <td>Second Class</td>\n",
       "      <td>JR-16210</td>\n",
       "      <td>Justin Ritter</td>\n",
       "      <td>Corporate</td>\n",
       "      <td>Wollongong</td>\n",
       "      <td>New South Wales</td>\n",
       "      <td>Australia</td>\n",
       "      <td>...</td>\n",
       "      <td>FUR-CH-10003950</td>\n",
       "      <td>Furniture</td>\n",
       "      <td>Chairs</td>\n",
       "      <td>Novimex Executive Leather Armchair, Black</td>\n",
       "      <td>3709.395</td>\n",
       "      <td>9</td>\n",
       "      <td>0.1</td>\n",
       "      <td>-288.7650</td>\n",
       "      <td>923.63</td>\n",
       "      <td>Critical</td>\n",
       "    </tr>\n",
       "    <tr>\n",
       "      <th>25330</th>\n",
       "      <td>IN-2013-71249</td>\n",
       "      <td>2013-10-17</td>\n",
       "      <td>2013-10-18</td>\n",
       "      <td>First Class</td>\n",
       "      <td>CR-12730</td>\n",
       "      <td>Craig Reiter</td>\n",
       "      <td>Consumer</td>\n",
       "      <td>Brisbane</td>\n",
       "      <td>Queensland</td>\n",
       "      <td>Australia</td>\n",
       "      <td>...</td>\n",
       "      <td>TEC-PH-10004664</td>\n",
       "      <td>Technology</td>\n",
       "      <td>Phones</td>\n",
       "      <td>Nokia Smart Phone, with Caller ID</td>\n",
       "      <td>5175.171</td>\n",
       "      <td>9</td>\n",
       "      <td>0.1</td>\n",
       "      <td>919.9710</td>\n",
       "      <td>915.49</td>\n",
       "      <td>Medium</td>\n",
       "    </tr>\n",
       "    <tr>\n",
       "      <th>13524</th>\n",
       "      <td>ES-2013-1579342</td>\n",
       "      <td>2013-01-28</td>\n",
       "      <td>2013-01-30</td>\n",
       "      <td>First Class</td>\n",
       "      <td>KM-16375</td>\n",
       "      <td>Katherine Murray</td>\n",
       "      <td>Home Office</td>\n",
       "      <td>Berlin</td>\n",
       "      <td>Berlin</td>\n",
       "      <td>Germany</td>\n",
       "      <td>...</td>\n",
       "      <td>TEC-PH-10004583</td>\n",
       "      <td>Technology</td>\n",
       "      <td>Phones</td>\n",
       "      <td>Motorola Smart Phone, Cordless</td>\n",
       "      <td>2892.510</td>\n",
       "      <td>5</td>\n",
       "      <td>0.1</td>\n",
       "      <td>-96.5400</td>\n",
       "      <td>910.16</td>\n",
       "      <td>Medium</td>\n",
       "    </tr>\n",
       "    <tr>\n",
       "      <th>47221</th>\n",
       "      <td>SG-2013-4320</td>\n",
       "      <td>2013-11-05</td>\n",
       "      <td>2013-11-06</td>\n",
       "      <td>Same Day</td>\n",
       "      <td>RH-9495</td>\n",
       "      <td>Rick Hansen</td>\n",
       "      <td>Consumer</td>\n",
       "      <td>Dakar</td>\n",
       "      <td>Dakar</td>\n",
       "      <td>Senegal</td>\n",
       "      <td>...</td>\n",
       "      <td>TEC-SHA-10000501</td>\n",
       "      <td>Technology</td>\n",
       "      <td>Copiers</td>\n",
       "      <td>Sharp Wireless Fax, High-Speed</td>\n",
       "      <td>2832.960</td>\n",
       "      <td>8</td>\n",
       "      <td>0.0</td>\n",
       "      <td>311.5200</td>\n",
       "      <td>903.04</td>\n",
       "      <td>Critical</td>\n",
       "    </tr>\n",
       "  </tbody>\n",
       "</table>\n",
       "<p>5 rows × 23 columns</p>\n",
       "</div>"
      ],
      "text/plain": [
       "               Order ID Order Date  Ship Date     Ship Mode Customer ID  \\\n",
       "Row ID                                                                    \n",
       "32298    CA-2012-124891 2012-07-31 2012-07-31      Same Day    RH-19495   \n",
       "26341     IN-2013-77878 2013-02-05 2013-02-07  Second Class    JR-16210   \n",
       "25330     IN-2013-71249 2013-10-17 2013-10-18   First Class    CR-12730   \n",
       "13524   ES-2013-1579342 2013-01-28 2013-01-30   First Class    KM-16375   \n",
       "47221      SG-2013-4320 2013-11-05 2013-11-06      Same Day     RH-9495   \n",
       "\n",
       "           Customer Name      Segment           City            State  \\\n",
       "Row ID                                                                  \n",
       "32298        Rick Hansen     Consumer  New York City         New York   \n",
       "26341      Justin Ritter    Corporate     Wollongong  New South Wales   \n",
       "25330       Craig Reiter     Consumer       Brisbane       Queensland   \n",
       "13524   Katherine Murray  Home Office         Berlin           Berlin   \n",
       "47221        Rick Hansen     Consumer          Dakar            Dakar   \n",
       "\n",
       "              Country  ...        Product ID    Category Sub-Category  \\\n",
       "Row ID                 ...                                              \n",
       "32298   United States  ...   TEC-AC-10003033  Technology  Accessories   \n",
       "26341       Australia  ...   FUR-CH-10003950   Furniture       Chairs   \n",
       "25330       Australia  ...   TEC-PH-10004664  Technology       Phones   \n",
       "13524         Germany  ...   TEC-PH-10004583  Technology       Phones   \n",
       "47221         Senegal  ...  TEC-SHA-10000501  Technology      Copiers   \n",
       "\n",
       "                                             Product Name     Sales Quantity  \\\n",
       "Row ID                                                                         \n",
       "32298   Plantronics CS510 - Over-the-Head monaural Wir...  2309.650        7   \n",
       "26341           Novimex Executive Leather Armchair, Black  3709.395        9   \n",
       "25330                   Nokia Smart Phone, with Caller ID  5175.171        9   \n",
       "13524                      Motorola Smart Phone, Cordless  2892.510        5   \n",
       "47221                      Sharp Wireless Fax, High-Speed  2832.960        8   \n",
       "\n",
       "       Discount    Profit  Shipping Cost  Order Priority  \n",
       "Row ID                                                    \n",
       "32298       0.0  762.1845         933.57        Critical  \n",
       "26341       0.1 -288.7650         923.63        Critical  \n",
       "25330       0.1  919.9710         915.49          Medium  \n",
       "13524       0.1  -96.5400         910.16          Medium  \n",
       "47221       0.0  311.5200         903.04        Critical  \n",
       "\n",
       "[5 rows x 23 columns]"
      ]
     },
     "execution_count": 3,
     "metadata": {},
     "output_type": "execute_result"
    }
   ],
   "source": [
    "orders = pd.read_excel('Global Superstore.xlsx', index_col=0)\n",
    "orders.head()"
   ]
  },
  {
   "cell_type": "code",
   "execution_count": 7,
   "id": "d59fe0e8",
   "metadata": {
    "collapsed": true
   },
   "outputs": [
    {
     "data": {
      "text/plain": [
       "['Order ID',\n",
       " 'Order Date',\n",
       " 'Ship Date',\n",
       " 'Ship Mode',\n",
       " 'Customer ID',\n",
       " 'Customer Name',\n",
       " 'Segment',\n",
       " 'City',\n",
       " 'State',\n",
       " 'Country',\n",
       " 'Postal Code',\n",
       " 'Market',\n",
       " 'Region',\n",
       " 'Product ID',\n",
       " 'Category',\n",
       " 'Sub-Category',\n",
       " 'Product Name',\n",
       " 'Sales',\n",
       " 'Quantity',\n",
       " 'Discount',\n",
       " 'Profit',\n",
       " 'Shipping Cost',\n",
       " 'Order Priority']"
      ]
     },
     "execution_count": 7,
     "metadata": {},
     "output_type": "execute_result"
    }
   ],
   "source": [
    "list(orders.columns)"
   ]
  },
  {
   "cell_type": "code",
   "execution_count": 8,
   "id": "5b7dbbbb",
   "metadata": {
    "scrolled": true
   },
   "outputs": [
    {
     "data": {
      "text/html": [
       "<div>\n",
       "<style scoped>\n",
       "    .dataframe tbody tr th:only-of-type {\n",
       "        vertical-align: middle;\n",
       "    }\n",
       "\n",
       "    .dataframe tbody tr th {\n",
       "        vertical-align: top;\n",
       "    }\n",
       "\n",
       "    .dataframe thead th {\n",
       "        text-align: right;\n",
       "    }\n",
       "</style>\n",
       "<table border=\"1\" class=\"dataframe\">\n",
       "  <thead>\n",
       "    <tr style=\"text-align: right;\">\n",
       "      <th></th>\n",
       "      <th>Postal Code</th>\n",
       "      <th>Sales</th>\n",
       "      <th>Quantity</th>\n",
       "      <th>Discount</th>\n",
       "      <th>Profit</th>\n",
       "      <th>Shipping Cost</th>\n",
       "    </tr>\n",
       "  </thead>\n",
       "  <tbody>\n",
       "    <tr>\n",
       "      <th>count</th>\n",
       "      <td>9994.000000</td>\n",
       "      <td>51290.000000</td>\n",
       "      <td>51290.000000</td>\n",
       "      <td>51290.000000</td>\n",
       "      <td>51290.000000</td>\n",
       "      <td>51290.000000</td>\n",
       "    </tr>\n",
       "    <tr>\n",
       "      <th>mean</th>\n",
       "      <td>55190.379428</td>\n",
       "      <td>246.490581</td>\n",
       "      <td>3.476545</td>\n",
       "      <td>0.142908</td>\n",
       "      <td>28.610982</td>\n",
       "      <td>26.375818</td>\n",
       "    </tr>\n",
       "    <tr>\n",
       "      <th>std</th>\n",
       "      <td>32063.693350</td>\n",
       "      <td>487.565361</td>\n",
       "      <td>2.278766</td>\n",
       "      <td>0.212280</td>\n",
       "      <td>174.340972</td>\n",
       "      <td>57.296810</td>\n",
       "    </tr>\n",
       "    <tr>\n",
       "      <th>min</th>\n",
       "      <td>1040.000000</td>\n",
       "      <td>0.444000</td>\n",
       "      <td>1.000000</td>\n",
       "      <td>0.000000</td>\n",
       "      <td>-6599.978000</td>\n",
       "      <td>0.002000</td>\n",
       "    </tr>\n",
       "    <tr>\n",
       "      <th>25%</th>\n",
       "      <td>23223.000000</td>\n",
       "      <td>30.758625</td>\n",
       "      <td>2.000000</td>\n",
       "      <td>0.000000</td>\n",
       "      <td>0.000000</td>\n",
       "      <td>2.610000</td>\n",
       "    </tr>\n",
       "    <tr>\n",
       "      <th>50%</th>\n",
       "      <td>56430.500000</td>\n",
       "      <td>85.053000</td>\n",
       "      <td>3.000000</td>\n",
       "      <td>0.000000</td>\n",
       "      <td>9.240000</td>\n",
       "      <td>7.790000</td>\n",
       "    </tr>\n",
       "    <tr>\n",
       "      <th>75%</th>\n",
       "      <td>90008.000000</td>\n",
       "      <td>251.053200</td>\n",
       "      <td>5.000000</td>\n",
       "      <td>0.200000</td>\n",
       "      <td>36.810000</td>\n",
       "      <td>24.450000</td>\n",
       "    </tr>\n",
       "    <tr>\n",
       "      <th>max</th>\n",
       "      <td>99301.000000</td>\n",
       "      <td>22638.480000</td>\n",
       "      <td>14.000000</td>\n",
       "      <td>0.850000</td>\n",
       "      <td>8399.976000</td>\n",
       "      <td>933.570000</td>\n",
       "    </tr>\n",
       "  </tbody>\n",
       "</table>\n",
       "</div>"
      ],
      "text/plain": [
       "        Postal Code         Sales      Quantity      Discount        Profit  \\\n",
       "count   9994.000000  51290.000000  51290.000000  51290.000000  51290.000000   \n",
       "mean   55190.379428    246.490581      3.476545      0.142908     28.610982   \n",
       "std    32063.693350    487.565361      2.278766      0.212280    174.340972   \n",
       "min     1040.000000      0.444000      1.000000      0.000000  -6599.978000   \n",
       "25%    23223.000000     30.758625      2.000000      0.000000      0.000000   \n",
       "50%    56430.500000     85.053000      3.000000      0.000000      9.240000   \n",
       "75%    90008.000000    251.053200      5.000000      0.200000     36.810000   \n",
       "max    99301.000000  22638.480000     14.000000      0.850000   8399.976000   \n",
       "\n",
       "       Shipping Cost  \n",
       "count   51290.000000  \n",
       "mean       26.375818  \n",
       "std        57.296810  \n",
       "min         0.002000  \n",
       "25%         2.610000  \n",
       "50%         7.790000  \n",
       "75%        24.450000  \n",
       "max       933.570000  "
      ]
     },
     "execution_count": 8,
     "metadata": {},
     "output_type": "execute_result"
    }
   ],
   "source": [
    "orders.describe()"
   ]
  },
  {
   "cell_type": "markdown",
   "id": "ff8c75f7",
   "metadata": {},
   "source": [
    "## Visualization of a Quanatitive Variable\n",
    "\n",
    "Going to visualize the discount column from the orders table"
   ]
  },
  {
   "cell_type": "code",
   "execution_count": 9,
   "id": "7d71bfa5",
   "metadata": {},
   "outputs": [
    {
     "data": {
      "text/plain": [
       "<AxesSubplot:>"
      ]
     },
     "execution_count": 9,
     "metadata": {},
     "output_type": "execute_result"
    },
    {
     "data": {
      "image/png": "[encoded data removed]",
      "text/plain": [
       "<Figure size 432x288 with 1 Axes>"
      ]
     },
     "metadata": {
      "needs_background": "light"
     },
     "output_type": "display_data"
    }
   ],
   "source": [
    "orders['Discount'].hist()"
   ]
  },
  {
   "cell_type": "code",
   "execution_count": 15,
   "id": "732db7ff",
   "metadata": {},
   "outputs": [
    {
     "data": {
      "text/plain": [
       "Category         Sub-Category\n",
       "Furniture        Bookcases       2411\n",
       "                 Chairs          3434\n",
       "                 Furnishings     3170\n",
       "                 Tables           861\n",
       "Office Supplies  Appliances      1755\n",
       "                 Art             4883\n",
       "                 Binders         6152\n",
       "                 Envelopes       2435\n",
       "                 Fasteners       2420\n",
       "                 Labels          2606\n",
       "                 Paper           3538\n",
       "                 Storage         5059\n",
       "                 Supplies        2425\n",
       "Technology       Accessories     3075\n",
       "                 Copiers         2223\n",
       "                 Machines        1486\n",
       "                 Phones          3357\n",
       "dtype: int64"
      ]
     },
     "execution_count": 15,
     "metadata": {},
     "output_type": "execute_result"
    }
   ],
   "source": [
    "orders.value_counts(subset=['Category', 'Sub-Category']).sort_index()"
   ]
  },
  {
   "cell_type": "code",
   "execution_count": 16,
   "id": "a41e1aca",
   "metadata": {
    "scrolled": false
   },
   "outputs": [
    {
     "data": {
      "text/html": [
       "<div>\n",
       "<style scoped>\n",
       "    .dataframe tbody tr th:only-of-type {\n",
       "        vertical-align: middle;\n",
       "    }\n",
       "\n",
       "    .dataframe tbody tr th {\n",
       "        vertical-align: top;\n",
       "    }\n",
       "\n",
       "    .dataframe thead th {\n",
       "        text-align: right;\n",
       "    }\n",
       "</style>\n",
       "<table border=\"1\" class=\"dataframe\">\n",
       "  <thead>\n",
       "    <tr style=\"text-align: right;\">\n",
       "      <th></th>\n",
       "      <th>Order ID</th>\n",
       "      <th>Order Date</th>\n",
       "      <th>Ship Date</th>\n",
       "      <th>Ship Mode</th>\n",
       "      <th>Customer ID</th>\n",
       "      <th>Customer Name</th>\n",
       "      <th>Segment</th>\n",
       "      <th>City</th>\n",
       "      <th>State</th>\n",
       "      <th>Country</th>\n",
       "      <th>...</th>\n",
       "      <th>Product ID</th>\n",
       "      <th>Category</th>\n",
       "      <th>Sub-Category</th>\n",
       "      <th>Product Name</th>\n",
       "      <th>Sales</th>\n",
       "      <th>Quantity</th>\n",
       "      <th>Discount</th>\n",
       "      <th>Profit</th>\n",
       "      <th>Shipping Cost</th>\n",
       "      <th>Order Priority</th>\n",
       "    </tr>\n",
       "    <tr>\n",
       "      <th>Row ID</th>\n",
       "      <th></th>\n",
       "      <th></th>\n",
       "      <th></th>\n",
       "      <th></th>\n",
       "      <th></th>\n",
       "      <th></th>\n",
       "      <th></th>\n",
       "      <th></th>\n",
       "      <th></th>\n",
       "      <th></th>\n",
       "      <th></th>\n",
       "      <th></th>\n",
       "      <th></th>\n",
       "      <th></th>\n",
       "      <th></th>\n",
       "      <th></th>\n",
       "      <th></th>\n",
       "      <th></th>\n",
       "      <th></th>\n",
       "      <th></th>\n",
       "      <th></th>\n",
       "    </tr>\n",
       "  </thead>\n",
       "  <tbody>\n",
       "    <tr>\n",
       "      <th>36607</th>\n",
       "      <td>CA-2014-131254</td>\n",
       "      <td>2014-11-20</td>\n",
       "      <td>2014-11-22</td>\n",
       "      <td>First Class</td>\n",
       "      <td>NC-18415</td>\n",
       "      <td>Nathan Cano</td>\n",
       "      <td>Consumer</td>\n",
       "      <td>Houston</td>\n",
       "      <td>Texas</td>\n",
       "      <td>United States</td>\n",
       "      <td>...</td>\n",
       "      <td>OFF-BI-10003527</td>\n",
       "      <td>Office Supplies</td>\n",
       "      <td>Binders</td>\n",
       "      <td>Fellowes PB500 Electric Punch Plastic Comb Bin...</td>\n",
       "      <td>1525.188</td>\n",
       "      <td>6</td>\n",
       "      <td>0.8</td>\n",
       "      <td>-2287.7820</td>\n",
       "      <td>263.47</td>\n",
       "      <td>High</td>\n",
       "    </tr>\n",
       "    <tr>\n",
       "      <th>41071</th>\n",
       "      <td>CA-2011-169019</td>\n",
       "      <td>2011-07-26</td>\n",
       "      <td>2011-07-30</td>\n",
       "      <td>Standard Class</td>\n",
       "      <td>LF-17185</td>\n",
       "      <td>Luke Foster</td>\n",
       "      <td>Consumer</td>\n",
       "      <td>San Antonio</td>\n",
       "      <td>Texas</td>\n",
       "      <td>United States</td>\n",
       "      <td>...</td>\n",
       "      <td>OFF-BI-10004995</td>\n",
       "      <td>Office Supplies</td>\n",
       "      <td>Binders</td>\n",
       "      <td>GBC DocuBind P400 Electric Binding System</td>\n",
       "      <td>2177.584</td>\n",
       "      <td>8</td>\n",
       "      <td>0.8</td>\n",
       "      <td>-3701.8928</td>\n",
       "      <td>172.07</td>\n",
       "      <td>Medium</td>\n",
       "    </tr>\n",
       "    <tr>\n",
       "      <th>32496</th>\n",
       "      <td>CA-2013-130946</td>\n",
       "      <td>2013-04-09</td>\n",
       "      <td>2013-04-13</td>\n",
       "      <td>Standard Class</td>\n",
       "      <td>ZC-21910</td>\n",
       "      <td>Zuschuss Carroll</td>\n",
       "      <td>Consumer</td>\n",
       "      <td>Houston</td>\n",
       "      <td>Texas</td>\n",
       "      <td>United States</td>\n",
       "      <td>...</td>\n",
       "      <td>OFF-BI-10004995</td>\n",
       "      <td>Office Supplies</td>\n",
       "      <td>Binders</td>\n",
       "      <td>GBC DocuBind P400 Electric Binding System</td>\n",
       "      <td>1088.792</td>\n",
       "      <td>4</td>\n",
       "      <td>0.8</td>\n",
       "      <td>-1850.9464</td>\n",
       "      <td>169.49</td>\n",
       "      <td>High</td>\n",
       "    </tr>\n",
       "    <tr>\n",
       "      <th>37559</th>\n",
       "      <td>CA-2013-132479</td>\n",
       "      <td>2013-09-25</td>\n",
       "      <td>2013-09-27</td>\n",
       "      <td>First Class</td>\n",
       "      <td>MK-17905</td>\n",
       "      <td>Michael Kennedy</td>\n",
       "      <td>Corporate</td>\n",
       "      <td>Rockford</td>\n",
       "      <td>Illinois</td>\n",
       "      <td>United States</td>\n",
       "      <td>...</td>\n",
       "      <td>OFF-BI-10004584</td>\n",
       "      <td>Office Supplies</td>\n",
       "      <td>Binders</td>\n",
       "      <td>GBC ProClick 150 Presentation Binding System</td>\n",
       "      <td>442.372</td>\n",
       "      <td>7</td>\n",
       "      <td>0.8</td>\n",
       "      <td>-729.9138</td>\n",
       "      <td>169.09</td>\n",
       "      <td>Critical</td>\n",
       "    </tr>\n",
       "    <tr>\n",
       "      <th>36288</th>\n",
       "      <td>US-2014-122714</td>\n",
       "      <td>2014-12-08</td>\n",
       "      <td>2014-12-14</td>\n",
       "      <td>Standard Class</td>\n",
       "      <td>HG-14965</td>\n",
       "      <td>Henry Goldwyn</td>\n",
       "      <td>Corporate</td>\n",
       "      <td>Chicago</td>\n",
       "      <td>Illinois</td>\n",
       "      <td>United States</td>\n",
       "      <td>...</td>\n",
       "      <td>OFF-BI-10001120</td>\n",
       "      <td>Office Supplies</td>\n",
       "      <td>Binders</td>\n",
       "      <td>Ibico EPK-21 Electric Binding System</td>\n",
       "      <td>1889.990</td>\n",
       "      <td>5</td>\n",
       "      <td>0.8</td>\n",
       "      <td>-2929.4845</td>\n",
       "      <td>129.51</td>\n",
       "      <td>Medium</td>\n",
       "    </tr>\n",
       "  </tbody>\n",
       "</table>\n",
       "<p>5 rows × 23 columns</p>\n",
       "</div>"
      ],
      "text/plain": [
       "              Order ID Order Date  Ship Date       Ship Mode Customer ID  \\\n",
       "Row ID                                                                     \n",
       "36607   CA-2014-131254 2014-11-20 2014-11-22     First Class    NC-18415   \n",
       "41071   CA-2011-169019 2011-07-26 2011-07-30  Standard Class    LF-17185   \n",
       "32496   CA-2013-130946 2013-04-09 2013-04-13  Standard Class    ZC-21910   \n",
       "37559   CA-2013-132479 2013-09-25 2013-09-27     First Class    MK-17905   \n",
       "36288   US-2014-122714 2014-12-08 2014-12-14  Standard Class    HG-14965   \n",
       "\n",
       "           Customer Name    Segment         City     State        Country  \\\n",
       "Row ID                                                                      \n",
       "36607        Nathan Cano   Consumer      Houston     Texas  United States   \n",
       "41071        Luke Foster   Consumer  San Antonio     Texas  United States   \n",
       "32496   Zuschuss Carroll   Consumer      Houston     Texas  United States   \n",
       "37559    Michael Kennedy  Corporate     Rockford  Illinois  United States   \n",
       "36288      Henry Goldwyn  Corporate      Chicago  Illinois  United States   \n",
       "\n",
       "        ...       Product ID         Category Sub-Category  \\\n",
       "Row ID  ...                                                  \n",
       "36607   ...  OFF-BI-10003527  Office Supplies      Binders   \n",
       "41071   ...  OFF-BI-10004995  Office Supplies      Binders   \n",
       "32496   ...  OFF-BI-10004995  Office Supplies      Binders   \n",
       "37559   ...  OFF-BI-10004584  Office Supplies      Binders   \n",
       "36288   ...  OFF-BI-10001120  Office Supplies      Binders   \n",
       "\n",
       "                                             Product Name     Sales Quantity  \\\n",
       "Row ID                                                                         \n",
       "36607   Fellowes PB500 Electric Punch Plastic Comb Bin...  1525.188        6   \n",
       "41071           GBC DocuBind P400 Electric Binding System  2177.584        8   \n",
       "32496           GBC DocuBind P400 Electric Binding System  1088.792        4   \n",
       "37559        GBC ProClick 150 Presentation Binding System   442.372        7   \n",
       "36288                Ibico EPK-21 Electric Binding System  1889.990        5   \n",
       "\n",
       "       Discount     Profit  Shipping Cost  Order Priority  \n",
       "Row ID                                                     \n",
       "36607       0.8 -2287.7820         263.47            High  \n",
       "41071       0.8 -3701.8928         172.07          Medium  \n",
       "32496       0.8 -1850.9464         169.49            High  \n",
       "37559       0.8  -729.9138         169.09        Critical  \n",
       "36288       0.8 -2929.4845         129.51          Medium  \n",
       "\n",
       "[5 rows x 23 columns]"
      ]
     },
     "execution_count": 16,
     "metadata": {},
     "output_type": "execute_result"
    }
   ],
   "source": [
    "high_discount_orders = orders[orders['Discount'] > 0.75]\n",
    "high_discount_orders.head()"
   ]
  },
  {
   "cell_type": "code",
   "execution_count": 17,
   "id": "ca2da33e",
   "metadata": {},
   "outputs": [
    {
     "data": {
      "text/plain": [
       "Category         Sub-Category\n",
       "Furniture        Furnishings       4\n",
       "                 Tables           14\n",
       "Office Supplies  Appliances       67\n",
       "                 Binders         233\n",
       "dtype: int64"
      ]
     },
     "execution_count": 17,
     "metadata": {},
     "output_type": "execute_result"
    }
   ],
   "source": [
    "high_discount_orders.value_counts(subset=['Category', 'Sub-Category']).sort_index()"
   ]
  },
  {
   "cell_type": "code",
   "execution_count": 19,
   "id": "6b09807c",
   "metadata": {},
   "outputs": [
    {
     "data": {
      "text/plain": [
       "<AxesSubplot:>"
      ]
     },
     "execution_count": 19,
     "metadata": {},
     "output_type": "execute_result"
    },
    {
     "data": {
      "image/png": "[encoded data removed]",
      "text/plain": [
       "<Figure size 432x288 with 1 Axes>"
      ]
     },
     "metadata": {
      "needs_background": "light"
     },
     "output_type": "display_data"
    }
   ],
   "source": [
    "high_discount_orders['Discount'].hist()"
   ]
  },
  {
   "cell_type": "markdown",
   "id": "8aa51fd0",
   "metadata": {},
   "source": [
    "#### Quanatitive Summary:\n",
    "\n",
    "For this I was looking at orders that had a high discount. It was found that certain categories get higher discounts than others. "
   ]
  },
  {
   "cell_type": "markdown",
   "id": "e9bd6cdc",
   "metadata": {},
   "source": [
    "## visualization of categorical data"
   ]
  },
  {
   "cell_type": "code",
   "execution_count": 20,
   "id": "a8182c80",
   "metadata": {},
   "outputs": [],
   "source": [
    "order_count = orders['Category'].value_counts()"
   ]
  },
  {
   "cell_type": "code",
   "execution_count": 21,
   "id": "1ba9a689",
   "metadata": {},
   "outputs": [
    {
     "data": {
      "text/plain": [
       "Office Supplies    31273\n",
       "Technology         10141\n",
       "Furniture           9876\n",
       "Name: Category, dtype: int64"
      ]
     },
     "execution_count": 21,
     "metadata": {},
     "output_type": "execute_result"
    }
   ],
   "source": [
    "order_count"
   ]
  },
  {
   "cell_type": "code",
   "execution_count": 22,
   "id": "3bb89f77",
   "metadata": {},
   "outputs": [
    {
     "data": {
      "text/plain": [
       "<BarContainer object of 3 artists>"
      ]
     },
     "execution_count": 22,
     "metadata": {},
     "output_type": "execute_result"
    },
    {
     "data": {
      "image/png": "[encoded data removed]",
      "text/plain": [
       "<Figure size 432x288 with 1 Axes>"
      ]
     },
     "metadata": {
      "needs_background": "light"
     },
     "output_type": "display_data"
    }
   ],
   "source": [
    "plt.bar(order_count.index, order_count.values)"
   ]
  },
  {
   "cell_type": "code",
   "execution_count": 23,
   "id": "222f1a1e",
   "metadata": {},
   "outputs": [
    {
     "data": {
      "text/html": [
       "<div>\n",
       "<style scoped>\n",
       "    .dataframe tbody tr th:only-of-type {\n",
       "        vertical-align: middle;\n",
       "    }\n",
       "\n",
       "    .dataframe tbody tr th {\n",
       "        vertical-align: top;\n",
       "    }\n",
       "\n",
       "    .dataframe thead th {\n",
       "        text-align: right;\n",
       "    }\n",
       "</style>\n",
       "<table border=\"1\" class=\"dataframe\">\n",
       "  <thead>\n",
       "    <tr style=\"text-align: right;\">\n",
       "      <th></th>\n",
       "      <th>Returned</th>\n",
       "      <th>Order ID</th>\n",
       "      <th>Market</th>\n",
       "    </tr>\n",
       "  </thead>\n",
       "  <tbody>\n",
       "    <tr>\n",
       "      <th>0</th>\n",
       "      <td>Yes</td>\n",
       "      <td>MX-2013-168137</td>\n",
       "      <td>LATAM</td>\n",
       "    </tr>\n",
       "    <tr>\n",
       "      <th>1</th>\n",
       "      <td>Yes</td>\n",
       "      <td>US-2011-165316</td>\n",
       "      <td>LATAM</td>\n",
       "    </tr>\n",
       "    <tr>\n",
       "      <th>2</th>\n",
       "      <td>Yes</td>\n",
       "      <td>ES-2013-1525878</td>\n",
       "      <td>EU</td>\n",
       "    </tr>\n",
       "    <tr>\n",
       "      <th>3</th>\n",
       "      <td>Yes</td>\n",
       "      <td>CA-2013-118311</td>\n",
       "      <td>United States</td>\n",
       "    </tr>\n",
       "    <tr>\n",
       "      <th>4</th>\n",
       "      <td>Yes</td>\n",
       "      <td>ES-2011-1276768</td>\n",
       "      <td>EU</td>\n",
       "    </tr>\n",
       "  </tbody>\n",
       "</table>\n",
       "</div>"
      ],
      "text/plain": [
       "  Returned         Order ID         Market\n",
       "0      Yes   MX-2013-168137          LATAM\n",
       "1      Yes   US-2011-165316          LATAM\n",
       "2      Yes  ES-2013-1525878             EU\n",
       "3      Yes   CA-2013-118311  United States\n",
       "4      Yes  ES-2011-1276768             EU"
      ]
     },
     "execution_count": 23,
     "metadata": {},
     "output_type": "execute_result"
    }
   ],
   "source": [
    "returns = pd.read_excel('Global Superstore.xlsx', sheet_name=1)\n",
    "returns.head()"
   ]
  },
  {
   "cell_type": "code",
   "execution_count": 24,
   "id": "ac31b00e",
   "metadata": {},
   "outputs": [],
   "source": [
    "ord_ret = pd.merge(orders, returns)"
   ]
  },
  {
   "cell_type": "code",
   "execution_count": 27,
   "id": "f6f04b5b",
   "metadata": {},
   "outputs": [
    {
     "data": {
      "text/plain": [
       "Gary Hwang          20\n",
       "Ted Butterfield     18\n",
       "Steven Ward         16\n",
       "Susan Pistek        15\n",
       "Nat Gilpin          15\n",
       "                    ..\n",
       "Todd Sumrall         1\n",
       "Gary Zandusky        1\n",
       "Grant Thornton       1\n",
       "Justin Deggeller     1\n",
       "Maria Etezadi        1\n",
       "Name: Customer Name, Length: 543, dtype: int64"
      ]
     },
     "execution_count": 27,
     "metadata": {},
     "output_type": "execute_result"
    }
   ],
   "source": [
    "ord_ret['Customer Name'].value_counts()"
   ]
  },
  {
   "cell_type": "markdown",
   "id": "e40dec0c",
   "metadata": {},
   "source": [
    "Gary Hwang is the customer that makes the most returns. "
   ]
  },
  {
   "cell_type": "code",
   "execution_count": null,
   "id": "10997ce4",
   "metadata": {},
   "outputs": [],
   "source": []
  }
 ],
 "metadata": {
  "kernelspec": {
   "display_name": "Python 3",
   "language": "python",
   "name": "python3"
  },
  "language_info": {
   "codemirror_mode": {
    "name": "ipython",
    "version": 3
   },
   "file_extension": ".py",
   "mimetype": "text/x-python",
   "name": "python",
   "nbconvert_exporter": "python",
   "pygments_lexer": "ipython3",
   "version": "3.8.8"
  }
 },
 "nbformat": 4,
 "nbformat_minor": 5
}
