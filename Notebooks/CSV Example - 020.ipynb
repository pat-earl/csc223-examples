{
 "cells": [
  {
   "cell_type": "code",
   "execution_count": 1,
   "id": "b47dd163",
   "metadata": {},
   "outputs": [],
   "source": [
    "import numpy as np\n",
    "import pandas as pd"
   ]
  },
  {
   "cell_type": "code",
   "execution_count": 7,
   "id": "aad9f7cd",
   "metadata": {},
   "outputs": [
    {
     "data": {
      "text/html": [
       "<div>\n",
       "<style scoped>\n",
       "    .dataframe tbody tr th:only-of-type {\n",
       "        vertical-align: middle;\n",
       "    }\n",
       "\n",
       "    .dataframe tbody tr th {\n",
       "        vertical-align: top;\n",
       "    }\n",
       "\n",
       "    .dataframe thead th {\n",
       "        text-align: right;\n",
       "    }\n",
       "</style>\n",
       "<table border=\"1\" class=\"dataframe\">\n",
       "  <thead>\n",
       "    <tr style=\"text-align: right;\">\n",
       "      <th></th>\n",
       "      <th>STATION</th>\n",
       "      <th>NAME</th>\n",
       "      <th>DATE</th>\n",
       "      <th>PRCP</th>\n",
       "      <th>SNOW</th>\n",
       "      <th>SNWD</th>\n",
       "    </tr>\n",
       "  </thead>\n",
       "  <tbody>\n",
       "    <tr>\n",
       "      <th>0</th>\n",
       "      <td>US1PABR0012</td>\n",
       "      <td>KUTZTOWN 2.2 NNE, PA US</td>\n",
       "      <td>2022-01-01</td>\n",
       "      <td>0.04</td>\n",
       "      <td>NaN</td>\n",
       "      <td>NaN</td>\n",
       "    </tr>\n",
       "    <tr>\n",
       "      <th>1</th>\n",
       "      <td>US1PABR0012</td>\n",
       "      <td>KUTZTOWN 2.2 NNE, PA US</td>\n",
       "      <td>2022-01-02</td>\n",
       "      <td>0.71</td>\n",
       "      <td>NaN</td>\n",
       "      <td>NaN</td>\n",
       "    </tr>\n",
       "    <tr>\n",
       "      <th>2</th>\n",
       "      <td>US1PABR0012</td>\n",
       "      <td>KUTZTOWN 2.2 NNE, PA US</td>\n",
       "      <td>2022-01-03</td>\n",
       "      <td>0.00</td>\n",
       "      <td>0.0</td>\n",
       "      <td>NaN</td>\n",
       "    </tr>\n",
       "    <tr>\n",
       "      <th>3</th>\n",
       "      <td>US1PABR0012</td>\n",
       "      <td>KUTZTOWN 2.2 NNE, PA US</td>\n",
       "      <td>2022-01-04</td>\n",
       "      <td>0.00</td>\n",
       "      <td>0.0</td>\n",
       "      <td>NaN</td>\n",
       "    </tr>\n",
       "    <tr>\n",
       "      <th>4</th>\n",
       "      <td>US1PABR0012</td>\n",
       "      <td>KUTZTOWN 2.2 NNE, PA US</td>\n",
       "      <td>2022-01-05</td>\n",
       "      <td>0.00</td>\n",
       "      <td>0.0</td>\n",
       "      <td>NaN</td>\n",
       "    </tr>\n",
       "  </tbody>\n",
       "</table>\n",
       "</div>"
      ],
      "text/plain": [
       "       STATION                     NAME        DATE  PRCP  SNOW  SNWD\n",
       "0  US1PABR0012  KUTZTOWN 2.2 NNE, PA US  2022-01-01  0.04   NaN   NaN\n",
       "1  US1PABR0012  KUTZTOWN 2.2 NNE, PA US  2022-01-02  0.71   NaN   NaN\n",
       "2  US1PABR0012  KUTZTOWN 2.2 NNE, PA US  2022-01-03  0.00   0.0   NaN\n",
       "3  US1PABR0012  KUTZTOWN 2.2 NNE, PA US  2022-01-04  0.00   0.0   NaN\n",
       "4  US1PABR0012  KUTZTOWN 2.2 NNE, PA US  2022-01-05  0.00   0.0   NaN"
      ]
     },
     "execution_count": 7,
     "metadata": {},
     "output_type": "execute_result"
    }
   ],
   "source": [
    "df = pd.read_csv('2921217.csv')\n",
    "df.head()"
   ]
  },
  {
   "cell_type": "code",
   "execution_count": 12,
   "id": "f42457fb",
   "metadata": {},
   "outputs": [
    {
     "data": {
      "text/html": [
       "<div>\n",
       "<style scoped>\n",
       "    .dataframe tbody tr th:only-of-type {\n",
       "        vertical-align: middle;\n",
       "    }\n",
       "\n",
       "    .dataframe tbody tr th {\n",
       "        vertical-align: top;\n",
       "    }\n",
       "\n",
       "    .dataframe thead th {\n",
       "        text-align: right;\n",
       "    }\n",
       "</style>\n",
       "<table border=\"1\" class=\"dataframe\">\n",
       "  <thead>\n",
       "    <tr style=\"text-align: right;\">\n",
       "      <th></th>\n",
       "      <th>STATION</th>\n",
       "      <th>NAME</th>\n",
       "      <th>DATE</th>\n",
       "      <th>PRCP</th>\n",
       "      <th>SNOW</th>\n",
       "      <th>SNWD</th>\n",
       "    </tr>\n",
       "  </thead>\n",
       "  <tbody>\n",
       "    <tr>\n",
       "      <th>0</th>\n",
       "      <td>US1PABR0012</td>\n",
       "      <td>KUTZTOWN 2.2 NNE, PA US</td>\n",
       "      <td>2022-01-01</td>\n",
       "      <td>0.04</td>\n",
       "      <td>0.0</td>\n",
       "      <td>0.0</td>\n",
       "    </tr>\n",
       "    <tr>\n",
       "      <th>1</th>\n",
       "      <td>US1PABR0012</td>\n",
       "      <td>KUTZTOWN 2.2 NNE, PA US</td>\n",
       "      <td>2022-01-02</td>\n",
       "      <td>0.71</td>\n",
       "      <td>0.0</td>\n",
       "      <td>0.0</td>\n",
       "    </tr>\n",
       "    <tr>\n",
       "      <th>2</th>\n",
       "      <td>US1PABR0012</td>\n",
       "      <td>KUTZTOWN 2.2 NNE, PA US</td>\n",
       "      <td>2022-01-03</td>\n",
       "      <td>0.00</td>\n",
       "      <td>0.0</td>\n",
       "      <td>0.0</td>\n",
       "    </tr>\n",
       "    <tr>\n",
       "      <th>3</th>\n",
       "      <td>US1PABR0012</td>\n",
       "      <td>KUTZTOWN 2.2 NNE, PA US</td>\n",
       "      <td>2022-01-04</td>\n",
       "      <td>0.00</td>\n",
       "      <td>0.0</td>\n",
       "      <td>0.0</td>\n",
       "    </tr>\n",
       "    <tr>\n",
       "      <th>4</th>\n",
       "      <td>US1PABR0012</td>\n",
       "      <td>KUTZTOWN 2.2 NNE, PA US</td>\n",
       "      <td>2022-01-05</td>\n",
       "      <td>0.00</td>\n",
       "      <td>0.0</td>\n",
       "      <td>0.0</td>\n",
       "    </tr>\n",
       "  </tbody>\n",
       "</table>\n",
       "</div>"
      ],
      "text/plain": [
       "       STATION                     NAME        DATE  PRCP  SNOW  SNWD\n",
       "0  US1PABR0012  KUTZTOWN 2.2 NNE, PA US  2022-01-01  0.04   0.0   0.0\n",
       "1  US1PABR0012  KUTZTOWN 2.2 NNE, PA US  2022-01-02  0.71   0.0   0.0\n",
       "2  US1PABR0012  KUTZTOWN 2.2 NNE, PA US  2022-01-03  0.00   0.0   0.0\n",
       "3  US1PABR0012  KUTZTOWN 2.2 NNE, PA US  2022-01-04  0.00   0.0   0.0\n",
       "4  US1PABR0012  KUTZTOWN 2.2 NNE, PA US  2022-01-05  0.00   0.0   0.0"
      ]
     },
     "execution_count": 12,
     "metadata": {},
     "output_type": "execute_result"
    }
   ],
   "source": [
    "df = df.fillna(0)\n",
    "df.head()"
   ]
  },
  {
   "cell_type": "code",
   "execution_count": 14,
   "id": "adaf543b",
   "metadata": {},
   "outputs": [],
   "source": [
    "df['PRCP'] = df['PRCP'] * 25.4"
   ]
  },
  {
   "cell_type": "code",
   "execution_count": 16,
   "id": "fdbece8b",
   "metadata": {},
   "outputs": [
    {
     "data": {
      "text/html": [
       "<div>\n",
       "<style scoped>\n",
       "    .dataframe tbody tr th:only-of-type {\n",
       "        vertical-align: middle;\n",
       "    }\n",
       "\n",
       "    .dataframe tbody tr th {\n",
       "        vertical-align: top;\n",
       "    }\n",
       "\n",
       "    .dataframe thead th {\n",
       "        text-align: right;\n",
       "    }\n",
       "</style>\n",
       "<table border=\"1\" class=\"dataframe\">\n",
       "  <thead>\n",
       "    <tr style=\"text-align: right;\">\n",
       "      <th></th>\n",
       "      <th>STATION</th>\n",
       "      <th>NAME</th>\n",
       "      <th>DATE</th>\n",
       "      <th>PRCP</th>\n",
       "      <th>SNOW</th>\n",
       "      <th>SNWD</th>\n",
       "    </tr>\n",
       "  </thead>\n",
       "  <tbody>\n",
       "    <tr>\n",
       "      <th>0</th>\n",
       "      <td>US1PABR0012</td>\n",
       "      <td>KUTZTOWN 2.2 NNE, PA US</td>\n",
       "      <td>2022-01-01</td>\n",
       "      <td>1.016</td>\n",
       "      <td>0.0</td>\n",
       "      <td>0.0</td>\n",
       "    </tr>\n",
       "    <tr>\n",
       "      <th>1</th>\n",
       "      <td>US1PABR0012</td>\n",
       "      <td>KUTZTOWN 2.2 NNE, PA US</td>\n",
       "      <td>2022-01-02</td>\n",
       "      <td>18.034</td>\n",
       "      <td>0.0</td>\n",
       "      <td>0.0</td>\n",
       "    </tr>\n",
       "    <tr>\n",
       "      <th>2</th>\n",
       "      <td>US1PABR0012</td>\n",
       "      <td>KUTZTOWN 2.2 NNE, PA US</td>\n",
       "      <td>2022-01-03</td>\n",
       "      <td>0.000</td>\n",
       "      <td>0.0</td>\n",
       "      <td>0.0</td>\n",
       "    </tr>\n",
       "    <tr>\n",
       "      <th>3</th>\n",
       "      <td>US1PABR0012</td>\n",
       "      <td>KUTZTOWN 2.2 NNE, PA US</td>\n",
       "      <td>2022-01-04</td>\n",
       "      <td>0.000</td>\n",
       "      <td>0.0</td>\n",
       "      <td>0.0</td>\n",
       "    </tr>\n",
       "    <tr>\n",
       "      <th>4</th>\n",
       "      <td>US1PABR0012</td>\n",
       "      <td>KUTZTOWN 2.2 NNE, PA US</td>\n",
       "      <td>2022-01-05</td>\n",
       "      <td>0.000</td>\n",
       "      <td>0.0</td>\n",
       "      <td>0.0</td>\n",
       "    </tr>\n",
       "  </tbody>\n",
       "</table>\n",
       "</div>"
      ],
      "text/plain": [
       "       STATION                     NAME        DATE    PRCP  SNOW  SNWD\n",
       "0  US1PABR0012  KUTZTOWN 2.2 NNE, PA US  2022-01-01   1.016   0.0   0.0\n",
       "1  US1PABR0012  KUTZTOWN 2.2 NNE, PA US  2022-01-02  18.034   0.0   0.0\n",
       "2  US1PABR0012  KUTZTOWN 2.2 NNE, PA US  2022-01-03   0.000   0.0   0.0\n",
       "3  US1PABR0012  KUTZTOWN 2.2 NNE, PA US  2022-01-04   0.000   0.0   0.0\n",
       "4  US1PABR0012  KUTZTOWN 2.2 NNE, PA US  2022-01-05   0.000   0.0   0.0"
      ]
     },
     "execution_count": 16,
     "metadata": {},
     "output_type": "execute_result"
    }
   ],
   "source": [
    "df.head()"
   ]
  },
  {
   "cell_type": "code",
   "execution_count": 19,
   "id": "6c6ec773",
   "metadata": {},
   "outputs": [
    {
     "data": {
      "text/plain": [
       "48.26"
      ]
     },
     "execution_count": 19,
     "metadata": {},
     "output_type": "execute_result"
    }
   ],
   "source": [
    "df['PRCP'].max()"
   ]
  },
  {
   "cell_type": "code",
   "execution_count": null,
   "id": "813231a4",
   "metadata": {},
   "outputs": [],
   "source": []
  }
 ],
 "metadata": {
  "kernelspec": {
   "display_name": "Python 3",
   "language": "python",
   "name": "python3"
  },
  "language_info": {
   "codemirror_mode": {
    "name": "ipython",
    "version": 3
   },
   "file_extension": ".py",
   "mimetype": "text/x-python",
   "name": "python",
   "nbconvert_exporter": "python",
   "pygments_lexer": "ipython3",
   "version": "3.8.8"
  }
 },
 "nbformat": 4,
 "nbformat_minor": 5
}
