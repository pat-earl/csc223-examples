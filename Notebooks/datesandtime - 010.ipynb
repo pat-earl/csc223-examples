{
 "cells": [
  {
   "cell_type": "code",
   "execution_count": 1,
   "id": "7a90a6f1",
   "metadata": {},
   "outputs": [],
   "source": [
    "import datetime as dt\n",
    "import numpy as np\n",
    "import pandas as pd"
   ]
  },
  {
   "cell_type": "code",
   "execution_count": 2,
   "id": "d1b705cd",
   "metadata": {},
   "outputs": [
    {
     "data": {
      "text/plain": [
       "datetime.datetime(2012, 12, 21, 0, 0)"
      ]
     },
     "execution_count": 2,
     "metadata": {},
     "output_type": "execute_result"
    }
   ],
   "source": [
    "date = dt.datetime(year=2012, month=12, day=21)\n",
    "date"
   ]
  },
  {
   "cell_type": "code",
   "execution_count": 3,
   "id": "e78e8b11",
   "metadata": {},
   "outputs": [
    {
     "data": {
      "text/plain": [
       "21"
      ]
     },
     "execution_count": 3,
     "metadata": {},
     "output_type": "execute_result"
    }
   ],
   "source": [
    "date.day"
   ]
  },
  {
   "cell_type": "code",
   "execution_count": 5,
   "id": "17914eb9",
   "metadata": {},
   "outputs": [],
   "source": [
    "from dateutil import parser\n",
    "\n",
    "date = parser.parse('4th of July, 2015')"
   ]
  },
  {
   "cell_type": "code",
   "execution_count": 6,
   "id": "a11a4666",
   "metadata": {},
   "outputs": [
    {
     "data": {
      "text/plain": [
       "datetime.datetime(2015, 7, 4, 0, 0)"
      ]
     },
     "execution_count": 6,
     "metadata": {},
     "output_type": "execute_result"
    }
   ],
   "source": [
    "# 01/01/2001\n",
    "# 01/02/2001\n",
    "# July 4th, 2015\n",
    "date"
   ]
  },
  {
   "cell_type": "code",
   "execution_count": 7,
   "id": "dd9fcee5",
   "metadata": {},
   "outputs": [
    {
     "data": {
      "text/plain": [
       "'Saturday'"
      ]
     },
     "execution_count": 7,
     "metadata": {},
     "output_type": "execute_result"
    }
   ],
   "source": [
    "date.strftime('%A')"
   ]
  },
  {
   "cell_type": "code",
   "execution_count": 8,
   "id": "4d053150",
   "metadata": {},
   "outputs": [
    {
     "data": {
      "text/plain": [
       "'Jul 04, 2015'"
      ]
     },
     "execution_count": 8,
     "metadata": {},
     "output_type": "execute_result"
    }
   ],
   "source": [
    "date.strftime('%b %d, %Y')"
   ]
  },
  {
   "cell_type": "code",
   "execution_count": 9,
   "id": "88d14063",
   "metadata": {},
   "outputs": [
    {
     "data": {
      "text/plain": [
       "array('2012-12-21', dtype='datetime64[D]')"
      ]
     },
     "execution_count": 9,
     "metadata": {},
     "output_type": "execute_result"
    }
   ],
   "source": [
    "date = np.array('2012-12-21', dtype=np.datetime64)\n",
    "date"
   ]
  },
  {
   "cell_type": "code",
   "execution_count": 10,
   "id": "edb1dcfc",
   "metadata": {},
   "outputs": [
    {
     "data": {
      "text/plain": [
       "array(['2012-12-21', '2012-12-22', '2012-12-23', '2012-12-24',\n",
       "       '2012-12-25', '2012-12-26', '2012-12-27', '2012-12-28',\n",
       "       '2012-12-29', '2012-12-30', '2012-12-31', '2013-01-01'],\n",
       "      dtype='datetime64[D]')"
      ]
     },
     "execution_count": 10,
     "metadata": {},
     "output_type": "execute_result"
    }
   ],
   "source": [
    "date + np.arange(12)"
   ]
  },
  {
   "cell_type": "code",
   "execution_count": 11,
   "id": "62f2ea13",
   "metadata": {},
   "outputs": [
    {
     "data": {
      "text/plain": [
       "pandas._libs.tslibs.timestamps.Timestamp"
      ]
     },
     "execution_count": 11,
     "metadata": {},
     "output_type": "execute_result"
    }
   ],
   "source": [
    "date = pd.to_datetime('4th of July, 2015')\n",
    "type(date)"
   ]
  },
  {
   "cell_type": "code",
   "execution_count": 12,
   "id": "9b2cc7e2",
   "metadata": {},
   "outputs": [
    {
     "data": {
      "text/plain": [
       "Timestamp('2015-07-04 00:00:00')"
      ]
     },
     "execution_count": 12,
     "metadata": {},
     "output_type": "execute_result"
    }
   ],
   "source": [
    "date"
   ]
  },
  {
   "cell_type": "code",
   "execution_count": 13,
   "id": "4dc6b35c",
   "metadata": {},
   "outputs": [
    {
     "data": {
      "text/plain": [
       "'Saturday'"
      ]
     },
     "execution_count": 13,
     "metadata": {},
     "output_type": "execute_result"
    }
   ],
   "source": [
    "date.strftime('%A')"
   ]
  },
  {
   "cell_type": "code",
   "execution_count": 14,
   "id": "02d3db67",
   "metadata": {},
   "outputs": [
    {
     "data": {
      "text/plain": [
       "DatetimeIndex(['2015-07-04', '2015-07-05', '2015-07-06', '2015-07-07',\n",
       "               '2015-07-08', '2015-07-09', '2015-07-10', '2015-07-11',\n",
       "               '2015-07-12', '2015-07-13', '2015-07-14', '2015-07-15'],\n",
       "              dtype='datetime64[ns]', freq=None)"
      ]
     },
     "execution_count": 14,
     "metadata": {},
     "output_type": "execute_result"
    }
   ],
   "source": [
    "date + pd.to_timedelta(np.arange(12), 'D')"
   ]
  },
  {
   "cell_type": "code",
   "execution_count": 15,
   "id": "80fc22ad",
   "metadata": {},
   "outputs": [],
   "source": [
    "index = pd.DatetimeIndex(['2014-07-04', '2014-08-04',\n",
    "                          '2015-07-04', '2015-08-04'])"
   ]
  },
  {
   "cell_type": "code",
   "execution_count": 16,
   "id": "a39d12e0",
   "metadata": {},
   "outputs": [
    {
     "data": {
      "text/plain": [
       "2014-07-04    0\n",
       "2014-08-04    1\n",
       "2015-07-04    2\n",
       "2015-08-04    3\n",
       "dtype: int64"
      ]
     },
     "execution_count": 16,
     "metadata": {},
     "output_type": "execute_result"
    }
   ],
   "source": [
    "data = pd.Series([0, 1, 2, 3], index=index)\n",
    "data"
   ]
  },
  {
   "cell_type": "code",
   "execution_count": 17,
   "id": "ffaa79ad",
   "metadata": {},
   "outputs": [
    {
     "data": {
      "text/plain": [
       "2014-08-04    1\n",
       "2015-07-04    2\n",
       "dtype: int64"
      ]
     },
     "execution_count": 17,
     "metadata": {},
     "output_type": "execute_result"
    }
   ],
   "source": [
    "data['2014-08-04':'2015-07-04']"
   ]
  },
  {
   "cell_type": "code",
   "execution_count": 18,
   "id": "c54d1d2b",
   "metadata": {},
   "outputs": [
    {
     "data": {
      "text/plain": [
       "2015-07-04    2\n",
       "2015-08-04    3\n",
       "dtype: int64"
      ]
     },
     "execution_count": 18,
     "metadata": {},
     "output_type": "execute_result"
    }
   ],
   "source": [
    "data.loc[\"2015\"]"
   ]
  },
  {
   "cell_type": "code",
   "execution_count": null,
   "id": "2a6ddeb7",
   "metadata": {},
   "outputs": [],
   "source": []
  }
 ],
 "metadata": {
  "kernelspec": {
   "display_name": "Python 3",
   "language": "python",
   "name": "python3"
  },
  "language_info": {
   "codemirror_mode": {
    "name": "ipython",
    "version": 3
   },
   "file_extension": ".py",
   "mimetype": "text/x-python",
   "name": "python",
   "nbconvert_exporter": "python",
   "pygments_lexer": "ipython3",
   "version": "3.8.8"
  }
 },
 "nbformat": 4,
 "nbformat_minor": 5
}
