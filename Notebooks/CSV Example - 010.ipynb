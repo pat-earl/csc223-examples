{
 "cells": [
  {
   "cell_type": "code",
   "execution_count": 1,
   "id": "af5d3ecd",
   "metadata": {},
   "outputs": [],
   "source": [
    "import numpy as np\n",
    "import pandas as pd"
   ]
  },
  {
   "cell_type": "code",
   "execution_count": 7,
   "id": "7ae30b97",
   "metadata": {},
   "outputs": [
    {
     "data": {
      "text/html": [
       "<div>\n",
       "<style scoped>\n",
       "    .dataframe tbody tr th:only-of-type {\n",
       "        vertical-align: middle;\n",
       "    }\n",
       "\n",
       "    .dataframe tbody tr th {\n",
       "        vertical-align: top;\n",
       "    }\n",
       "\n",
       "    .dataframe thead th {\n",
       "        text-align: right;\n",
       "    }\n",
       "</style>\n",
       "<table border=\"1\" class=\"dataframe\">\n",
       "  <thead>\n",
       "    <tr style=\"text-align: right;\">\n",
       "      <th></th>\n",
       "      <th>STATION</th>\n",
       "      <th>NAME</th>\n",
       "      <th>DATE</th>\n",
       "      <th>PRCP</th>\n",
       "      <th>SNOW</th>\n",
       "      <th>SNWD</th>\n",
       "    </tr>\n",
       "  </thead>\n",
       "  <tbody>\n",
       "    <tr>\n",
       "      <th>0</th>\n",
       "      <td>US1PABR0012</td>\n",
       "      <td>KUTZTOWN 2.2 NNE, PA US</td>\n",
       "      <td>2022-01-01</td>\n",
       "      <td>0.04</td>\n",
       "      <td>NaN</td>\n",
       "      <td>NaN</td>\n",
       "    </tr>\n",
       "    <tr>\n",
       "      <th>1</th>\n",
       "      <td>US1PABR0012</td>\n",
       "      <td>KUTZTOWN 2.2 NNE, PA US</td>\n",
       "      <td>2022-01-02</td>\n",
       "      <td>0.71</td>\n",
       "      <td>NaN</td>\n",
       "      <td>NaN</td>\n",
       "    </tr>\n",
       "    <tr>\n",
       "      <th>2</th>\n",
       "      <td>US1PABR0012</td>\n",
       "      <td>KUTZTOWN 2.2 NNE, PA US</td>\n",
       "      <td>2022-01-03</td>\n",
       "      <td>0.00</td>\n",
       "      <td>0.0</td>\n",
       "      <td>NaN</td>\n",
       "    </tr>\n",
       "    <tr>\n",
       "      <th>3</th>\n",
       "      <td>US1PABR0012</td>\n",
       "      <td>KUTZTOWN 2.2 NNE, PA US</td>\n",
       "      <td>2022-01-04</td>\n",
       "      <td>0.00</td>\n",
       "      <td>0.0</td>\n",
       "      <td>NaN</td>\n",
       "    </tr>\n",
       "    <tr>\n",
       "      <th>4</th>\n",
       "      <td>US1PABR0012</td>\n",
       "      <td>KUTZTOWN 2.2 NNE, PA US</td>\n",
       "      <td>2022-01-05</td>\n",
       "      <td>0.00</td>\n",
       "      <td>0.0</td>\n",
       "      <td>NaN</td>\n",
       "    </tr>\n",
       "  </tbody>\n",
       "</table>\n",
       "</div>"
      ],
      "text/plain": [
       "       STATION                     NAME        DATE  PRCP  SNOW  SNWD\n",
       "0  US1PABR0012  KUTZTOWN 2.2 NNE, PA US  2022-01-01  0.04   NaN   NaN\n",
       "1  US1PABR0012  KUTZTOWN 2.2 NNE, PA US  2022-01-02  0.71   NaN   NaN\n",
       "2  US1PABR0012  KUTZTOWN 2.2 NNE, PA US  2022-01-03  0.00   0.0   NaN\n",
       "3  US1PABR0012  KUTZTOWN 2.2 NNE, PA US  2022-01-04  0.00   0.0   NaN\n",
       "4  US1PABR0012  KUTZTOWN 2.2 NNE, PA US  2022-01-05  0.00   0.0   NaN"
      ]
     },
     "execution_count": 7,
     "metadata": {},
     "output_type": "execute_result"
    }
   ],
   "source": [
    "df = pd.read_csv('2921217.csv')\n",
    "df.head()"
   ]
  },
  {
   "cell_type": "code",
   "execution_count": 9,
   "id": "d7ae39c1",
   "metadata": {},
   "outputs": [
    {
     "data": {
      "text/html": [
       "<div>\n",
       "<style scoped>\n",
       "    .dataframe tbody tr th:only-of-type {\n",
       "        vertical-align: middle;\n",
       "    }\n",
       "\n",
       "    .dataframe tbody tr th {\n",
       "        vertical-align: top;\n",
       "    }\n",
       "\n",
       "    .dataframe thead th {\n",
       "        text-align: right;\n",
       "    }\n",
       "</style>\n",
       "<table border=\"1\" class=\"dataframe\">\n",
       "  <thead>\n",
       "    <tr style=\"text-align: right;\">\n",
       "      <th></th>\n",
       "      <th>STATION</th>\n",
       "      <th>NAME</th>\n",
       "      <th>DATE</th>\n",
       "      <th>PRCP</th>\n",
       "      <th>SNOW</th>\n",
       "      <th>SNWD</th>\n",
       "    </tr>\n",
       "  </thead>\n",
       "  <tbody>\n",
       "    <tr>\n",
       "      <th>0</th>\n",
       "      <td>US1PABR0012</td>\n",
       "      <td>KUTZTOWN 2.2 NNE, PA US</td>\n",
       "      <td>2022-01-01</td>\n",
       "      <td>0.04</td>\n",
       "      <td>0.0</td>\n",
       "      <td>0.0</td>\n",
       "    </tr>\n",
       "    <tr>\n",
       "      <th>1</th>\n",
       "      <td>US1PABR0012</td>\n",
       "      <td>KUTZTOWN 2.2 NNE, PA US</td>\n",
       "      <td>2022-01-02</td>\n",
       "      <td>0.71</td>\n",
       "      <td>0.0</td>\n",
       "      <td>0.0</td>\n",
       "    </tr>\n",
       "    <tr>\n",
       "      <th>2</th>\n",
       "      <td>US1PABR0012</td>\n",
       "      <td>KUTZTOWN 2.2 NNE, PA US</td>\n",
       "      <td>2022-01-03</td>\n",
       "      <td>0.00</td>\n",
       "      <td>0.0</td>\n",
       "      <td>0.0</td>\n",
       "    </tr>\n",
       "    <tr>\n",
       "      <th>3</th>\n",
       "      <td>US1PABR0012</td>\n",
       "      <td>KUTZTOWN 2.2 NNE, PA US</td>\n",
       "      <td>2022-01-04</td>\n",
       "      <td>0.00</td>\n",
       "      <td>0.0</td>\n",
       "      <td>0.0</td>\n",
       "    </tr>\n",
       "    <tr>\n",
       "      <th>4</th>\n",
       "      <td>US1PABR0012</td>\n",
       "      <td>KUTZTOWN 2.2 NNE, PA US</td>\n",
       "      <td>2022-01-05</td>\n",
       "      <td>0.00</td>\n",
       "      <td>0.0</td>\n",
       "      <td>0.0</td>\n",
       "    </tr>\n",
       "  </tbody>\n",
       "</table>\n",
       "</div>"
      ],
      "text/plain": [
       "       STATION                     NAME        DATE  PRCP  SNOW  SNWD\n",
       "0  US1PABR0012  KUTZTOWN 2.2 NNE, PA US  2022-01-01  0.04   0.0   0.0\n",
       "1  US1PABR0012  KUTZTOWN 2.2 NNE, PA US  2022-01-02  0.71   0.0   0.0\n",
       "2  US1PABR0012  KUTZTOWN 2.2 NNE, PA US  2022-01-03  0.00   0.0   0.0\n",
       "3  US1PABR0012  KUTZTOWN 2.2 NNE, PA US  2022-01-04  0.00   0.0   0.0\n",
       "4  US1PABR0012  KUTZTOWN 2.2 NNE, PA US  2022-01-05  0.00   0.0   0.0"
      ]
     },
     "execution_count": 9,
     "metadata": {},
     "output_type": "execute_result"
    }
   ],
   "source": [
    "df = df.fillna(0)\n",
    "df.head()"
   ]
  },
  {
   "cell_type": "code",
   "execution_count": 12,
   "id": "525f30c6",
   "metadata": {},
   "outputs": [
    {
     "data": {
      "text/plain": [
       "0.10084337349397589"
      ]
     },
     "execution_count": 12,
     "metadata": {},
     "output_type": "execute_result"
    }
   ],
   "source": [
    "df['PRCP'].mean()"
   ]
  },
  {
   "cell_type": "code",
   "execution_count": 13,
   "id": "12e9358b",
   "metadata": {},
   "outputs": [],
   "source": [
    "df['PRCP'] = df['PRCP'] * 25.4"
   ]
  },
  {
   "cell_type": "code",
   "execution_count": 14,
   "id": "a4f8deda",
   "metadata": {},
   "outputs": [
    {
     "data": {
      "text/plain": [
       "0      1.016\n",
       "1     18.034\n",
       "2      0.000\n",
       "3      0.000\n",
       "4      0.000\n",
       "       ...  \n",
       "78     2.286\n",
       "79     0.000\n",
       "80     0.000\n",
       "81     0.000\n",
       "82    10.668\n",
       "Name: PRCP, Length: 83, dtype: float64"
      ]
     },
     "execution_count": 14,
     "metadata": {},
     "output_type": "execute_result"
    }
   ],
   "source": [
    "df['PRCP']"
   ]
  }
 ],
 "metadata": {
  "kernelspec": {
   "display_name": "Python 3",
   "language": "python",
   "name": "python3"
  },
  "language_info": {
   "codemirror_mode": {
    "name": "ipython",
    "version": 3
   },
   "file_extension": ".py",
   "mimetype": "text/x-python",
   "name": "python",
   "nbconvert_exporter": "python",
   "pygments_lexer": "ipython3",
   "version": "3.8.8"
  }
 },
 "nbformat": 4,
 "nbformat_minor": 5
}
