{
 "cells": [
  {
   "cell_type": "code",
   "execution_count": 7,
   "id": "7ce6b193",
   "metadata": {},
   "outputs": [],
   "source": [
    "import numpy as np\n",
    "\n",
    "text=\"HELLO WORLD\""
   ]
  },
  {
   "cell_type": "code",
   "execution_count": 8,
   "id": "78dbd34b",
   "metadata": {},
   "outputs": [
    {
     "name": "stdout",
     "output_type": "stream",
     "text": [
      "HELLO WORLD\n"
     ]
    }
   ],
   "source": [
    "print(text)"
   ]
  },
  {
   "cell_type": "markdown",
   "id": "d075cd86",
   "metadata": {},
   "source": [
    "# H1\n",
    "\n",
    "## H2\n",
    "\n",
    "### H3\n",
    "\n",
    "This some **markdown**"
   ]
  },
  {
   "cell_type": "code",
   "execution_count": 10,
   "id": "6d540bd4",
   "metadata": {},
   "outputs": [],
   "source": [
    "text=\"Something new\""
   ]
  },
  {
   "cell_type": "code",
   "execution_count": 11,
   "id": "dba205d8",
   "metadata": {},
   "outputs": [
    {
     "name": "stdout",
     "output_type": "stream",
     "text": [
      "Something new\n"
     ]
    }
   ],
   "source": [
    "print(text)"
   ]
  },
  {
   "cell_type": "code",
   "execution_count": null,
   "id": "c26c9371",
   "metadata": {},
   "outputs": [],
   "source": []
  }
 ],
 "metadata": {
  "kernelspec": {
   "display_name": "Python 3",
   "language": "python",
   "name": "python3"
  },
  "language_info": {
   "codemirror_mode": {
    "name": "ipython",
    "version": 3
   },
   "file_extension": ".py",
   "mimetype": "text/x-python",
   "name": "python",
   "nbconvert_exporter": "python",
   "pygments_lexer": "ipython3",
   "version": "3.8.8"
  }
 },
 "nbformat": 4,
 "nbformat_minor": 5
}
